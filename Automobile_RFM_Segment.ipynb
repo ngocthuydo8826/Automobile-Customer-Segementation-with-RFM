{
 "cells": [
  {
   "cell_type": "code",
   "execution_count": 89,
   "id": "f1915cc8-625c-4e9d-ac39-f4900e7db966",
   "metadata": {},
   "outputs": [],
   "source": [
    "import pandas as pd\n",
    "import numpy as np\n",
    "import matplotlib.pyplot as plt\n",
    "import seaborn as sns"
   ]
  },
  {
   "cell_type": "code",
   "execution_count": 91,
   "id": "9ad17e28-6b4e-4402-89aa-0a3e443c188e",
   "metadata": {},
   "outputs": [],
   "source": [
    "df_rfm = pd.read_csv('Downloads/Auto Sales data.csv')"
   ]
  },
  {
   "cell_type": "code",
   "execution_count": 93,
   "id": "d39cb72c-9b9d-4834-8c2e-12e82500ff61",
   "metadata": {},
   "outputs": [
    {
     "data": {
      "text/html": [
       "<div>\n",
       "<style scoped>\n",
       "    .dataframe tbody tr th:only-of-type {\n",
       "        vertical-align: middle;\n",
       "    }\n",
       "\n",
       "    .dataframe tbody tr th {\n",
       "        vertical-align: top;\n",
       "    }\n",
       "\n",
       "    .dataframe thead th {\n",
       "        text-align: right;\n",
       "    }\n",
       "</style>\n",
       "<table border=\"1\" class=\"dataframe\">\n",
       "  <thead>\n",
       "    <tr style=\"text-align: right;\">\n",
       "      <th></th>\n",
       "      <th>ORDERNUMBER</th>\n",
       "      <th>QUANTITYORDERED</th>\n",
       "      <th>PRICEEACH</th>\n",
       "      <th>ORDERLINENUMBER</th>\n",
       "      <th>SALES</th>\n",
       "      <th>ORDERDATE</th>\n",
       "      <th>DAYS_SINCE_LASTORDER</th>\n",
       "      <th>STATUS</th>\n",
       "      <th>PRODUCTLINE</th>\n",
       "      <th>MSRP</th>\n",
       "      <th>PRODUCTCODE</th>\n",
       "      <th>CUSTOMERNAME</th>\n",
       "      <th>PHONE</th>\n",
       "      <th>ADDRESSLINE1</th>\n",
       "      <th>CITY</th>\n",
       "      <th>POSTALCODE</th>\n",
       "      <th>COUNTRY</th>\n",
       "      <th>CONTACTLASTNAME</th>\n",
       "      <th>CONTACTFIRSTNAME</th>\n",
       "      <th>DEALSIZE</th>\n",
       "    </tr>\n",
       "  </thead>\n",
       "  <tbody>\n",
       "    <tr>\n",
       "      <th>0</th>\n",
       "      <td>10107</td>\n",
       "      <td>30</td>\n",
       "      <td>95.70</td>\n",
       "      <td>2</td>\n",
       "      <td>2871.00</td>\n",
       "      <td>2-24-18</td>\n",
       "      <td>828</td>\n",
       "      <td>Shipped</td>\n",
       "      <td>Motorcycles</td>\n",
       "      <td>95</td>\n",
       "      <td>S10_1678</td>\n",
       "      <td>Land of Toys Inc.</td>\n",
       "      <td>2125557818</td>\n",
       "      <td>897 Long Airport Avenue</td>\n",
       "      <td>NYC</td>\n",
       "      <td>10022</td>\n",
       "      <td>USA</td>\n",
       "      <td>Yu</td>\n",
       "      <td>Kwai</td>\n",
       "      <td>Small</td>\n",
       "    </tr>\n",
       "    <tr>\n",
       "      <th>1</th>\n",
       "      <td>10121</td>\n",
       "      <td>34</td>\n",
       "      <td>81.35</td>\n",
       "      <td>5</td>\n",
       "      <td>2765.90</td>\n",
       "      <td>5-7-18</td>\n",
       "      <td>757</td>\n",
       "      <td>Shipped</td>\n",
       "      <td>Motorcycles</td>\n",
       "      <td>95</td>\n",
       "      <td>S10_1678</td>\n",
       "      <td>Reims Collectables</td>\n",
       "      <td>26.47.1555</td>\n",
       "      <td>59 rue de l'Abbaye</td>\n",
       "      <td>Reims</td>\n",
       "      <td>51100</td>\n",
       "      <td>France</td>\n",
       "      <td>Henriot</td>\n",
       "      <td>Paul</td>\n",
       "      <td>Small</td>\n",
       "    </tr>\n",
       "    <tr>\n",
       "      <th>2</th>\n",
       "      <td>10134</td>\n",
       "      <td>41</td>\n",
       "      <td>94.74</td>\n",
       "      <td>2</td>\n",
       "      <td>3884.34</td>\n",
       "      <td>7-1-18</td>\n",
       "      <td>703</td>\n",
       "      <td>Shipped</td>\n",
       "      <td>Motorcycles</td>\n",
       "      <td>95</td>\n",
       "      <td>S10_1678</td>\n",
       "      <td>Lyon Souveniers</td>\n",
       "      <td>+33 1 46 62 7555</td>\n",
       "      <td>27 rue du Colonel Pierre Avia</td>\n",
       "      <td>Paris</td>\n",
       "      <td>75508</td>\n",
       "      <td>France</td>\n",
       "      <td>Da Cunha</td>\n",
       "      <td>Daniel</td>\n",
       "      <td>Medium</td>\n",
       "    </tr>\n",
       "    <tr>\n",
       "      <th>3</th>\n",
       "      <td>10145</td>\n",
       "      <td>45</td>\n",
       "      <td>83.26</td>\n",
       "      <td>6</td>\n",
       "      <td>3746.70</td>\n",
       "      <td>8-25-18</td>\n",
       "      <td>649</td>\n",
       "      <td>Shipped</td>\n",
       "      <td>Motorcycles</td>\n",
       "      <td>95</td>\n",
       "      <td>S10_1678</td>\n",
       "      <td>Toys4GrownUps.com</td>\n",
       "      <td>6265557265</td>\n",
       "      <td>78934 Hillside Dr.</td>\n",
       "      <td>Pasadena</td>\n",
       "      <td>90003</td>\n",
       "      <td>USA</td>\n",
       "      <td>Young</td>\n",
       "      <td>Julie</td>\n",
       "      <td>Medium</td>\n",
       "    </tr>\n",
       "    <tr>\n",
       "      <th>4</th>\n",
       "      <td>10168</td>\n",
       "      <td>36</td>\n",
       "      <td>96.66</td>\n",
       "      <td>1</td>\n",
       "      <td>3479.76</td>\n",
       "      <td>10-28-18</td>\n",
       "      <td>586</td>\n",
       "      <td>Shipped</td>\n",
       "      <td>Motorcycles</td>\n",
       "      <td>95</td>\n",
       "      <td>S10_1678</td>\n",
       "      <td>Technics Stores Inc.</td>\n",
       "      <td>6505556809</td>\n",
       "      <td>9408 Furth Circle</td>\n",
       "      <td>Burlingame</td>\n",
       "      <td>94217</td>\n",
       "      <td>USA</td>\n",
       "      <td>Hirano</td>\n",
       "      <td>Juri</td>\n",
       "      <td>Medium</td>\n",
       "    </tr>\n",
       "  </tbody>\n",
       "</table>\n",
       "</div>"
      ],
      "text/plain": [
       "   ORDERNUMBER  QUANTITYORDERED  PRICEEACH  ORDERLINENUMBER    SALES  \\\n",
       "0        10107               30      95.70                2  2871.00   \n",
       "1        10121               34      81.35                5  2765.90   \n",
       "2        10134               41      94.74                2  3884.34   \n",
       "3        10145               45      83.26                6  3746.70   \n",
       "4        10168               36      96.66                1  3479.76   \n",
       "\n",
       "  ORDERDATE  DAYS_SINCE_LASTORDER   STATUS  PRODUCTLINE  MSRP PRODUCTCODE  \\\n",
       "0   2-24-18                   828  Shipped  Motorcycles    95    S10_1678   \n",
       "1    5-7-18                   757  Shipped  Motorcycles    95    S10_1678   \n",
       "2    7-1-18                   703  Shipped  Motorcycles    95    S10_1678   \n",
       "3   8-25-18                   649  Shipped  Motorcycles    95    S10_1678   \n",
       "4  10-28-18                   586  Shipped  Motorcycles    95    S10_1678   \n",
       "\n",
       "           CUSTOMERNAME             PHONE                   ADDRESSLINE1  \\\n",
       "0     Land of Toys Inc.        2125557818        897 Long Airport Avenue   \n",
       "1    Reims Collectables        26.47.1555             59 rue de l'Abbaye   \n",
       "2       Lyon Souveniers  +33 1 46 62 7555  27 rue du Colonel Pierre Avia   \n",
       "3     Toys4GrownUps.com        6265557265             78934 Hillside Dr.   \n",
       "4  Technics Stores Inc.        6505556809              9408 Furth Circle   \n",
       "\n",
       "         CITY POSTALCODE COUNTRY CONTACTLASTNAME CONTACTFIRSTNAME DEALSIZE  \n",
       "0         NYC      10022     USA              Yu             Kwai    Small  \n",
       "1       Reims      51100  France         Henriot             Paul    Small  \n",
       "2       Paris      75508  France        Da Cunha           Daniel   Medium  \n",
       "3    Pasadena      90003     USA           Young            Julie   Medium  \n",
       "4  Burlingame      94217     USA          Hirano             Juri   Medium  "
      ]
     },
     "execution_count": 93,
     "metadata": {},
     "output_type": "execute_result"
    }
   ],
   "source": [
    "df_rfm.head()"
   ]
  },
  {
   "cell_type": "code",
   "execution_count": 95,
   "id": "d34a9b27-37d9-4fdd-9f82-81f44208b2da",
   "metadata": {},
   "outputs": [
    {
     "name": "stdout",
     "output_type": "stream",
     "text": [
      "Column ORDERNUMBER: 0\n",
      "Column QUANTITYORDERED: 0\n",
      "Column PRICEEACH: 0\n",
      "Column ORDERLINENUMBER: 0\n",
      "Column SALES: 0\n",
      "Column ORDERDATE: 0\n",
      "Column DAYS_SINCE_LASTORDER: 0\n",
      "Column STATUS: 0\n",
      "Column PRODUCTLINE: 0\n",
      "Column MSRP: 0\n",
      "Column PRODUCTCODE: 0\n",
      "Column CUSTOMERNAME: 0\n",
      "Column PHONE: 0\n",
      "Column ADDRESSLINE1: 0\n",
      "Column CITY: 0\n",
      "Column POSTALCODE: 0\n",
      "Column COUNTRY: 0\n",
      "Column CONTACTLASTNAME: 0\n",
      "Column CONTACTFIRSTNAME: 0\n",
      "Column DEALSIZE: 0\n"
     ]
    }
   ],
   "source": [
    "for col in df_rfm.columns:\n",
    "    missing_v = df_rfm[col].isna().sum()\n",
    "    print(f'Column {col}: {missing_v}')"
   ]
  },
  {
   "cell_type": "markdown",
   "id": "aac09cc7-0de7-42e3-9ebb-cdef7febb315",
   "metadata": {},
   "source": [
    "None of columns have `IS NULL` values"
   ]
  },
  {
   "cell_type": "code",
   "execution_count": 98,
   "id": "4ef77c57-c88a-4988-bde7-dba9bfe236dc",
   "metadata": {},
   "outputs": [
    {
     "data": {
      "text/plain": [
       "0"
      ]
     },
     "execution_count": 98,
     "metadata": {},
     "output_type": "execute_result"
    }
   ],
   "source": [
    "df_rfm.duplicated().sum()"
   ]
  },
  {
   "cell_type": "markdown",
   "id": "d11ddb77-de7c-45d0-bc96-8174430349b0",
   "metadata": {},
   "source": [
    "There has no duplicated data in the dataset"
   ]
  },
  {
   "cell_type": "code",
   "execution_count": 132,
   "id": "97a019dc-132e-4ba0-be3c-1f4d54ea5a06",
   "metadata": {},
   "outputs": [],
   "source": [
    "df_t1 = pd.read_csv('Downloads/df_rfm.csv')"
   ]
  },
  {
   "cell_type": "code",
   "execution_count": 134,
   "id": "3440d250-d9af-4d91-a702-b53cc42dc8be",
   "metadata": {},
   "outputs": [
    {
     "data": {
      "text/plain": [
       "0     (659.0, 1353.0]\n",
       "1      (228.6, 339.2]\n",
       "2     (41.999, 228.6]\n",
       "3      (228.6, 339.2]\n",
       "4     (659.0, 1353.0]\n",
       "           ...       \n",
       "84    (41.999, 228.6]\n",
       "85     (339.2, 480.6]\n",
       "86     (339.2, 480.6]\n",
       "87     (228.6, 339.2]\n",
       "88     (480.6, 659.0]\n",
       "Name: recency, Length: 89, dtype: category\n",
       "Categories (5, interval[float64, right]): [(41.999, 228.6] < (228.6, 339.2] < (339.2, 480.6] < (480.6, 659.0] < (659.0, 1353.0]]"
      ]
     },
     "execution_count": 134,
     "metadata": {},
     "output_type": "execute_result"
    }
   ],
   "source": [
    "pd.qcut(df_t1['recency'], q=5)"
   ]
  },
  {
   "cell_type": "code",
   "execution_count": 136,
   "id": "e054f55b-9b6b-4562-b12e-269f205aa650",
   "metadata": {},
   "outputs": [
    {
     "data": {
      "text/plain": [
       "0     1\n",
       "1     4\n",
       "2     5\n",
       "3     4\n",
       "4     1\n",
       "     ..\n",
       "84    5\n",
       "85    3\n",
       "86    3\n",
       "87    4\n",
       "88    2\n",
       "Name: recency, Length: 89, dtype: category\n",
       "Categories (5, int64): [5 < 4 < 3 < 2 < 1]"
      ]
     },
     "execution_count": 136,
     "metadata": {},
     "output_type": "execute_result"
    }
   ],
   "source": [
    "pd.qcut(df_t1['recency'], q=5,  labels = [5,4,3,2,1])"
   ]
  },
  {
   "cell_type": "markdown",
   "id": "8c4ab686-25d0-4e70-bfba-f4df9f021e4a",
   "metadata": {},
   "source": [
    "Using qcut() function, we can divide `recency` into 5 groups (5,4,3,2,1), with `group 5` (still active) and `group 1` (dropped)"
   ]
  },
  {
   "cell_type": "code",
   "execution_count": 153,
   "id": "df41613d-e7d7-4f76-a83b-de77a7459a56",
   "metadata": {},
   "outputs": [
    {
     "data": {
      "text/plain": [
       "0      (18.6, 36.2]\n",
       "1     (0.999, 18.6]\n",
       "2      (53.8, 71.4]\n",
       "3      (18.6, 36.2]\n",
       "4      (18.6, 36.2]\n",
       "          ...      \n",
       "84     (53.8, 71.4]\n",
       "85     (18.6, 36.2]\n",
       "86     (53.8, 71.4]\n",
       "87     (71.4, 89.0]\n",
       "88     (18.6, 36.2]\n",
       "Name: frequency, Length: 89, dtype: category\n",
       "Categories (5, interval[float64, right]): [(0.999, 18.6] < (18.6, 36.2] < (36.2, 53.8] < (53.8, 71.4] < (71.4, 89.0]]"
      ]
     },
     "execution_count": 153,
     "metadata": {},
     "output_type": "execute_result"
    }
   ],
   "source": [
    "pd.qcut(df_t1['frequency'].rank(method='first'), 5)"
   ]
  },
  {
   "cell_type": "code",
   "execution_count": 155,
   "id": "67fbe269-4cd0-4e6b-877b-e23802b6f156",
   "metadata": {},
   "outputs": [
    {
     "data": {
      "text/plain": [
       "0     2\n",
       "1     1\n",
       "2     4\n",
       "3     2\n",
       "4     2\n",
       "     ..\n",
       "84    4\n",
       "85    2\n",
       "86    4\n",
       "87    5\n",
       "88    2\n",
       "Name: frequency, Length: 89, dtype: category\n",
       "Categories (5, int64): [1 < 2 < 3 < 4 < 5]"
      ]
     },
     "execution_count": 155,
     "metadata": {},
     "output_type": "execute_result"
    }
   ],
   "source": [
    "pd.qcut(df_t1['frequency'].rank(method='first'), 5, labels = [1,2,3,4,5])"
   ]
  },
  {
   "cell_type": "markdown",
   "id": "1e46a60d-5a79-426d-b5e2-5c5db97f3920",
   "metadata": {},
   "source": [
    "Using qcut() function, we can divide `frequency` into 5 groups (1,2,3,4,5), with `group 5` (most frequent) and `group 1` (least frequent)"
   ]
  },
  {
   "cell_type": "code",
   "execution_count": 160,
   "id": "26ca1379-785d-4804-83cb-ee923c080557",
   "metadata": {},
   "outputs": [
    {
     "data": {
      "text/plain": [
       "0       (64737.176, 79665.352]\n",
       "1      (79665.352, 100537.756]\n",
       "2      (132714.912, 912294.11]\n",
       "3        (9129.349, 64737.176]\n",
       "4        (9129.349, 64737.176]\n",
       "                ...           \n",
       "84    (100537.756, 132714.912]\n",
       "85    (100537.756, 132714.912]\n",
       "86     (79665.352, 100537.756]\n",
       "87      (64737.176, 79665.352]\n",
       "88       (9129.349, 64737.176]\n",
       "Name: monetary, Length: 89, dtype: category\n",
       "Categories (5, interval[float64, right]): [(9129.349, 64737.176] < (64737.176, 79665.352] < (79665.352, 100537.756] < (100537.756, 132714.912] < (132714.912, 912294.11]]"
      ]
     },
     "execution_count": 160,
     "metadata": {},
     "output_type": "execute_result"
    }
   ],
   "source": [
    "pd.qcut(df_t1['monetary'], q=5)"
   ]
  },
  {
   "cell_type": "code",
   "execution_count": 162,
   "id": "4e6f2b68-f2e0-4a11-b8d5-7486a95868d9",
   "metadata": {},
   "outputs": [
    {
     "data": {
      "text/plain": [
       "0     2\n",
       "1     3\n",
       "2     5\n",
       "3     1\n",
       "4     1\n",
       "     ..\n",
       "84    4\n",
       "85    4\n",
       "86    3\n",
       "87    2\n",
       "88    1\n",
       "Name: monetary, Length: 89, dtype: category\n",
       "Categories (5, int64): [1 < 2 < 3 < 4 < 5]"
      ]
     },
     "execution_count": 162,
     "metadata": {},
     "output_type": "execute_result"
    }
   ],
   "source": [
    "pd.qcut(df_t1['monetary'], q=5, labels = [1,2,3,4,5])"
   ]
  },
  {
   "cell_type": "code",
   "execution_count": null,
   "id": "fdf6e66a-03d5-4e52-9deb-1d59ef7384e6",
   "metadata": {},
   "outputs": [],
   "source": []
  }
 ],
 "metadata": {
  "kernelspec": {
   "display_name": "Python 3 (ipykernel)",
   "language": "python",
   "name": "python3"
  },
  "language_info": {
   "codemirror_mode": {
    "name": "ipython",
    "version": 3
   },
   "file_extension": ".py",
   "mimetype": "text/x-python",
   "name": "python",
   "nbconvert_exporter": "python",
   "pygments_lexer": "ipython3",
   "version": "3.12.4"
  }
 },
 "nbformat": 4,
 "nbformat_minor": 5
}
